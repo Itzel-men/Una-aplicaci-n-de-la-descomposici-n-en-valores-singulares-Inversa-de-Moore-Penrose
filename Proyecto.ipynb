{
 "cells": [
  {
   "cell_type": "markdown",
   "id": "d96744e8-f36b-4f76-a692-4906d5b5cecb",
   "metadata": {},
   "source": [
    "<h1><center>Una aplicación de la descomposición en valores singulares: Inversa de Moore-Penrose</center></h1>\n",
    "<h2><center> Álgebra Matricial </center></h2>\n",
    "<h3><center> Viridiana Itzel Méndez Vásquez </center></h3>"
   ]
  },
  {
   "cell_type": "markdown",
   "id": "2e5521cf-2ce9-490a-a2bb-37df9fa9b939",
   "metadata": {},
   "source": [
    "La resolución de sistemas de ecuaciones lineales han jugado siempre un papel muy importante en la solución de problemas en muchos ámbitos y como es bien sabido, estos pueden no tener solución o tener, pero no necesariamente ser única. En forma matricial $Ax=b$ sería un sistema de ecuaciones y la forma fácil de resolverlo sería $x = A^{-1}b$, pero no sabemos más de $A$, esta no necesariamente es una matriz cuadrada o si lo es, no se nos garantiza que exista su inversa. Para este tipo de problemas y más se desarolló la **inversa de Moore-Penrose**. Sin embargo, para llegar a ese punto es importante reconocer la importancia de la diagonalización y factorización de matrices en Álgebra matricial, se sabe que existe una basta teoría sobre ello cuando hablamos de matrices simétricas, pero ¿qué sucede cuando no lo son? Porque evidentemente no todas las matrices cumplen con esa propiedad, y si hablamos sobre matrices de datos con grandes dimensiones la situación se complica, además a partir de estos temas llegamos a la **descomposición en valores singulares** que es la base para encontrar la **inversa de Moore-Penrose**.\n",
    "\n",
    "# Diagonalización ortogonal en matrices simétricas\n",
    "\n",
    "Empecemos hablando sobre diagonalizació. Una matriz $A$ es simétrica si satisface $A^{T}=A$. Claramente estamos hablando de matrices cuadradas. \n",
    "\n",
    "Vamos a decir que una matriz es **diagonalizable ortogonalmente** si existe una matriz ortogonal $P$ y una matriz diagonal $D$ tal que\n",
    "$$A = P D P^{T}$$\n",
    "Sin embargo, necesitamos encontrar $n$ vectores propios linealmente independientes y ortonormales para construir la matriz $P$, pero como lo mencioné, existe mucha teoría sobre matrices simétricas y tenemos el siguiente Teorema\n",
    "\n",
    "**Teorema**. Una matriz $A_{n \\times n}$ es diagonalizable ortogonalmente si y sólo si $A$ es simétrica.\n",
    "\n",
    "Pero, ¿cómo construimos dichas matrices? Resulta que si $A$ es una matriz simétrica, entonces cualesquiera dos vectores propios de diferentes espacios propios son ortogonales. De modo que se van a presentar dos casos:\n",
    "1. $A$ tiene valores propios sin multiplicidades.\n",
    "Para este caso, gracias al teorema podemos construir a $P$ como sigue\n",
    "$$ P = [ v_{1}, \\ldots, v_{n}]$$\n",
    "donde cada $v_{i} = \\frac{1}{||u_{i}||} u_{i}$ para $i=1, \\ldots, n$ con $u_{i}$ el vector propio correspondiente al valor propio $\\lambda_{i}$.\n",
    "\n",
    "Mientras que $D= diag[\\lambda_{1}, \\ldots, \\lambda_{n}]$.\n",
    "\n",
    "2. $A$ tiene valores propios con multiplicidades.\n",
    "\n",
    "En este caso, los vectores propios correspondientes a los valores propios con multiplicidad no van a ser ortogonales, por lo que es necesario construirlos, esto lo vamos a lograr gracias al Proceso de Gram-Schmidt, dicho proceso se define de la siguiente forma:\n",
    "\n",
    "## Proceso de Gram-Schmidt\n",
    "\n",
    "A partir de una base $\\{x_{1}, \\ldots, x_{p} \\}$ para un subespacio $W$ de $\\mathbb{R}^{n}$, se define\n",
    "$$v_{1} = x_{1} $$\n",
    "$$v_{2} = x_{2} - \\frac{x_{2} \\cdot v_{1}}{ v_{1} \\cdot v_{1}} v_{1}$$\n",
    "$$v_{3} = x_{3}-\\frac{x_{3} \\cdot v_{1}}{ v_{1} \\cdot v_{1}} v_{1}-\\frac{x_{3} \\cdot v_{2}}{ v_{2} \\cdot v_{2}} v_{2} $$\n",
    "$$\\vdots$$\n",
    "$$v_{p} = x_{p}-\\frac{x_{p} \\cdot v_{1}}{ v_{1} \\cdot v_{1}} v_{1}-\\frac{x_{p} \\cdot v_{2}}{ v_{2} \\cdot v_{2}} v_{2} - \\cdots - \\frac{x_{p} \\cdot v_{p-1}}{ v_{p-1} \\cdot v_{p-1}} v_{p-1} $$\n",
    "Entonces $\\{v_{1}, \\ldots, v_{p} \\}$ es una base ortonormal para $W$.\n",
    "\n",
    "Dicho procedimiento lo implemento en Python de la siguiente manera:"
   ]
  },
  {
   "cell_type": "code",
   "execution_count": 148,
   "id": "d5f87d5e-6048-4e89-8dde-fb708f3f65d2",
   "metadata": {},
   "outputs": [],
   "source": [
    "import numpy as np\n",
    "\n",
    "def gramSchmidt(A):\n",
    "    (n,m) = A.shape\n",
    "    for i in range(m):\n",
    "        vi = A[:,i]\n",
    "        for j in range(i):\n",
    "            vi = vi- np.dot(A[:,j],A[:,i])*A[:,j]\n",
    "        A[:, i] = vi / np.sqrt(np.dot(vi,vi))"
   ]
  },
  {
   "cell_type": "markdown",
   "id": "68978058-8e0a-4dca-b662-c1f39eb7442c",
   "metadata": {},
   "source": [
    "Con el método ya programado obtengamos la matriz $P$ y $D$ para la siguiente matriz simétrica\n",
    "$$ A = \\pmatrix{6 & -2 & -1 \\\\ -2 & 6 & -1 \\\\ -1 & -1 & 5}$$\n",
    "El primer paso es obtener los valores y vectores propios: Esto lo hacemos mediante la librería **Numpy**, obtenemos los valores propios y la matriz con los vectores propios normalizados correspondientes."
   ]
  },
  {
   "cell_type": "code",
   "execution_count": 179,
   "id": "4ea4539a-14d7-4041-ad20-7d6871b5512d",
   "metadata": {},
   "outputs": [
    {
     "data": {
      "text/plain": [
       "array([3., 8., 6.])"
      ]
     },
     "execution_count": 179,
     "metadata": {},
     "output_type": "execute_result"
    }
   ],
   "source": [
    "A = np.array([[6.0, -2.0,-1.0],[-2.0,6.0,-1.0],[-1.0,-1.0,5.0]])\n",
    "x, V = np.linalg.eig(A)\n",
    "x"
   ]
  },
  {
   "cell_type": "markdown",
   "id": "90f0bb8e-ebef-4bde-b15a-a85a68ae474c",
   "metadata": {},
   "source": [
    "En este caso observamos que los valores propios no tienen multiplicidad, de modo que para este caso\n",
    "$ P = V$ y $D = diag[3,8,6]$."
   ]
  },
  {
   "cell_type": "code",
   "execution_count": 180,
   "id": "dde5f331-4097-4510-9a9a-ed426141e1eb",
   "metadata": {},
   "outputs": [
    {
     "data": {
      "text/plain": [
       "array([[ 6., -2., -1.],\n",
       "       [-2.,  6., -1.],\n",
       "       [-1., -1.,  5.]])"
      ]
     },
     "execution_count": 180,
     "metadata": {},
     "output_type": "execute_result"
    }
   ],
   "source": [
    "D = np.diag(x)\n",
    "np.dot(np.dot(V,D), np.transpose(V))"
   ]
  },
  {
   "cell_type": "markdown",
   "id": "5578ab7c-cda6-48ef-980d-c3eea66acee9",
   "metadata": {},
   "source": [
    "Se comprueba que al realizar el producto $P D P^{T}$ se obtiene la matriz $A$ dada.\n",
    "\n",
    "Analicemos otro ejemplo, consideramos la matriz\n",
    "$$ A = \\pmatrix{3 & -2 & 4 \\\\ -2 & 6 & 2 \\\\ 4 & 2 & 3}$$.\n",
    "\n",
    "En la siguiente línea se observa que $A$ tiene como valores propios -2 y 7 con multiplicidad 2. Razón por la cual los vectores propios correspondientes al valor propio 7 no son ortogonales."
   ]
  },
  {
   "cell_type": "code",
   "execution_count": 218,
   "id": "5ee9783b-7402-48ef-b269-b1a2b28cd846",
   "metadata": {},
   "outputs": [
    {
     "data": {
      "text/plain": [
       "array([ 7., -2.,  7.])"
      ]
     },
     "execution_count": 218,
     "metadata": {},
     "output_type": "execute_result"
    }
   ],
   "source": [
    "A = np.array([[3.0, -2.0,4.0],[-2.0,6.0,2.0],[4.0,2.0,3.0]])\n",
    "x, V = np.linalg.eig(A)\n",
    "x"
   ]
  },
  {
   "cell_type": "markdown",
   "id": "0d28beb4-260b-4b6d-8ac2-67cbea62cfa2",
   "metadata": {},
   "source": [
    "Seleccionamos los vectores propios correspondientes a 7 y le aplicamos el proceso de Gram-Schmidt."
   ]
  },
  {
   "cell_type": "code",
   "execution_count": 219,
   "id": "5fe27506-35d8-4710-aece-acf22a3d2fd5",
   "metadata": {},
   "outputs": [
    {
     "data": {
      "text/plain": [
       "array([[ 0.74535599, -0.08265645],\n",
       "       [-0.2981424 ,  0.92197303],\n",
       "       [ 0.59628479,  0.37833006]])"
      ]
     },
     "execution_count": 219,
     "metadata": {},
     "output_type": "execute_result"
    }
   ],
   "source": [
    "NewV = V[:,[0,2]]\n",
    "NewV"
   ]
  },
  {
   "cell_type": "code",
   "execution_count": 220,
   "id": "ca7ccda8-3c49-4bd1-a1be-04fa8f4bcedf",
   "metadata": {},
   "outputs": [],
   "source": [
    "gramSchmidt(NewV)"
   ]
  },
  {
   "cell_type": "markdown",
   "id": "01de0ff5-7af8-440a-86ec-4337c3005b62",
   "metadata": {},
   "source": [
    "Finalmente construimos la matriz $P$ respetando el orden de los valores propios que devolvió la función."
   ]
  },
  {
   "cell_type": "code",
   "execution_count": 221,
   "id": "476fef34-3c2c-4d7f-9949-79a31dc90714",
   "metadata": {},
   "outputs": [],
   "source": [
    "P = np.zeros((3,3))\n",
    "P[:,[0,2]] = NewV\n",
    "P[:,1] = V[:,1]"
   ]
  },
  {
   "cell_type": "code",
   "execution_count": 222,
   "id": "6a171cf0-1257-4580-a3dc-b12f3be11df7",
   "metadata": {},
   "outputs": [
    {
     "data": {
      "text/plain": [
       "array([[ 7.45355992e-01, -6.66666667e-01, -5.58556635e-17],\n",
       "       [-2.98142397e-01, -3.33333333e-01,  8.94427191e-01],\n",
       "       [ 5.96284794e-01,  6.66666667e-01,  4.47213595e-01]])"
      ]
     },
     "execution_count": 222,
     "metadata": {},
     "output_type": "execute_result"
    }
   ],
   "source": [
    "P"
   ]
  },
  {
   "cell_type": "markdown",
   "id": "4bf4adf1-d39e-4f03-8e92-a8e2c1967c39",
   "metadata": {},
   "source": [
    "Construimos $D$, realizamos la multiplicación $P A P^{T}$ y comprobamos que efectivamente se obtiene la matriz $A$."
   ]
  },
  {
   "cell_type": "code",
   "execution_count": 223,
   "id": "0f59333a-79b7-469a-85fe-d4b403c83707",
   "metadata": {},
   "outputs": [
    {
     "data": {
      "text/plain": [
       "array([[ 3., -2.,  4.],\n",
       "       [-2.,  6.,  2.],\n",
       "       [ 4.,  2.,  3.]])"
      ]
     },
     "execution_count": 223,
     "metadata": {},
     "output_type": "execute_result"
    }
   ],
   "source": [
    "D = np.diag(x)\n",
    "np.dot(np.dot(P,D), np.transpose(P))"
   ]
  },
  {
   "cell_type": "markdown",
   "id": "4c2184cb-fcda-47ae-8d35-308fff91f532",
   "metadata": {},
   "source": [
    "# Descomposición en valores singulares (SVD)\n",
    "\n",
    "Vimos que es relativamente fácil diagonalizar y, por lo tanto, factorizar algunas matrices con ciertas características: Matrices simétricas, desafortunadamente hay un sin fin de matrices que no cumplen con dicha propiedad, no es posible una factorización $P D P^{-1}$, pero sí podemos factorizar $A= QDP^{-1}$ donde $A_{m \\times n}$, a este tipo de factorización se le conoce como *descomposición en valores singulares*, pero ¿qué son los valores singulares de una matriz?\n",
    "\n",
    "Consideremos una matriz $A$ de $m \\times n$, no tenemos mayor información sobre $A$, pero sí sabemos que $A^{T}A$ es simétrica y por lo tanto, se puede diagonalizar ortogonalmente. Sea $\\{ v_{1}, \\ldots, v_{n} \\}$ vectores propios de $A^{T}A$ que forman una base ortonormal para $\\mathbb{R}^{n}$ correspondientes a los valores propios $\\lambda_{1}, \\ldots, \\lambda_{n}$ asociados a $A^{T}A$. Se cumple que para $i = 1, \\ldots, n$, \n",
    "$$ ||Av_{i} ||^{2} = \\lambda_{i} \\geq 0 $$ \n",
    "Se pueden ordenar los valores propios de modo que\n",
    "$$ \\lambda_{1} \\geq \\lambda_{2} \\geq \\cdots \\geq \\lambda_{n} \\geq 0$$\n",
    "\n",
    "Los **valores singulares** de $A$ se denotan por $\\sigma_{1}, \\ldots, \\sigma_{n}$ y se definen como \n",
    "$$ \\sigma_{i} = \\sqrt{ \\lambda_{i}}, \\qquad \\text{ para } i =1, \\ldots, n.$$\n",
    "\n",
    "Con las condiciones mencionadas anteriormente y suponiendo que $A$ tienen $r$ valores singulares, se garantiza que $\\{ Av_{1}, \\ldots, Av_{n} \\}$ es una base ortogonal para $ColA$ y $rango A = r$.\n",
    "\n",
    "Dicho esto, se presenta la descomposición en valores singulares.\n",
    "\n",
    "Sea $A$ una matriz de $m \\times n$ con rango $r$. Entonces existe una matriz $\\Sigma$ de $m \\times n$ de la forma\n",
    "$$ \\Sigma = \\begin{pmatrix} \n",
    "            D & 0 \\\\ 0 & 0 \n",
    "            \\end{pmatrix}$$\n",
    "donde $D$ es una matriz diagonal de $r \\times r$ cuyas entradas son los primeros $r$ valores singulares de $A$, $\\sigma_{1} \\geq \\sigma_{2} \\geq \\cdots \\geq \\sigma_{r} > 0$, y existen una matriz ortogonal $U$ de $m \\times m$ y una matriz ortogonal $V$ de $n \\times n$ tales que\n",
    "$$ A = U \\Sigma V^{T} $$.\n",
    "\n",
    "Cuando $\\Sigma$ contiene filas o columnas de ceros, es posible obtener un factorización más compacta de $A$. Siguiendo con las consideraciones antes mencionadas, las matrices $U$ y $V$ se pueden escribir en bloques de la siguiente forma \n",
    "$$ U = [U_{r} U_{m-r}], \\qquad \\text{ donde } U_{r} = [u_{1} \\cdots u_{r}]$$\n",
    "$$ V = [V_{r} V_{n-r} ], \\qquad \\text{ donde } V_{r} = [v_{1} \\cdots v_{r}]$$\n",
    "de modo que $U_{r}$ es de $m \\times r$, y $V_{r}$ es de $n \\times r$ y así\n",
    "\n",
    "$$ A = U \\Sigma V^{T} = (U_{r} U_{m-r}) \\begin{pmatrix} \n",
    "            D & 0 \\\\ 0 & 0 \n",
    "            \\end{pmatrix} \\begin{pmatrix} \n",
    "            V_{r}^{T} \\\\ V_{n-r}^{T}\n",
    "            \\end{pmatrix} = U_{r} D V_{r}^{T} $$\n",
    "A la descomposición anterior se le conoce como **descomposición en valores singulares reducida** de $A$. De aquí es donde se deriva la **seudoinversa** o **inversa de Moore-Penrose**, pues como $D$ tiene entradas diferentes de cero, entonces es invertible y así\n",
    "$$A^{+} = V_{r} D^{-1} U_{r}^{T}$$.\n",
    "\n",
    "Consideremos la matriz\n",
    "$$ A = \\begin{pmatrix} 7 & 2 \\\\ 3 & 4 \\\\ 5 & 3 \\end{pmatrix} $$\n",
    "encontremos su descomposición en valores singulares y su inversa de Moore-Penrose. Primero definimos la matriz:"
   ]
  },
  {
   "cell_type": "code",
   "execution_count": 224,
   "id": "d1fdb680-84b1-41ba-92c9-a156a6000b03",
   "metadata": {},
   "outputs": [],
   "source": [
    "A = np.array([[7,2],[3,4],[5,3]])"
   ]
  },
  {
   "cell_type": "markdown",
   "id": "aee5ea87-cdc7-44b6-a891-e9e907c4d456",
   "metadata": {},
   "source": [
    "En Python podemos obtener la SVD usando la librería Numpy de la siguiente forma:"
   ]
  },
  {
   "cell_type": "code",
   "execution_count": 246,
   "id": "7f6fc42f-4351-43a3-8b3c-429d37d8ce8f",
   "metadata": {},
   "outputs": [],
   "source": [
    "import numpy as np\n",
    "\n",
    "U, D, Vt = np.linalg.svd(A)"
   ]
  },
  {
   "cell_type": "code",
   "execution_count": 247,
   "id": "710e5767-b2a0-4a80-9c10-846f74e546cb",
   "metadata": {},
   "outputs": [
    {
     "data": {
      "text/plain": [
       "array([[-0.69366543,  0.59343205, -0.40824829],\n",
       "       [-0.4427092 , -0.79833696, -0.40824829],\n",
       "       [-0.56818732, -0.10245245,  0.81649658]])"
      ]
     },
     "execution_count": 247,
     "metadata": {},
     "output_type": "execute_result"
    }
   ],
   "source": [
    "U"
   ]
  },
  {
   "cell_type": "code",
   "execution_count": 249,
   "id": "576bdaff-e376-420e-93ce-a6121729aa29",
   "metadata": {},
   "outputs": [
    {
     "data": {
      "text/plain": [
       "array([10.25142677,  2.62835484])"
      ]
     },
     "execution_count": 249,
     "metadata": {},
     "output_type": "execute_result"
    }
   ],
   "source": [
    "D"
   ]
  },
  {
   "cell_type": "markdown",
   "id": "cf596295-738d-439c-b323-1d0686146e80",
   "metadata": {},
   "source": [
    "Observamos que la matriz $D$ contiene a los valores singulares, en este caso son 2, de modo que la matriz reducida $U_{r}$ debe tener dimensión $3 \\times 2$, así"
   ]
  },
  {
   "cell_type": "code",
   "execution_count": 248,
   "id": "f713fa5f-695d-4154-89b6-9a8ee19befb7",
   "metadata": {},
   "outputs": [
    {
     "data": {
      "text/plain": [
       "array([[-0.69366543,  0.59343205],\n",
       "       [-0.4427092 , -0.79833696],\n",
       "       [-0.56818732, -0.10245245]])"
      ]
     },
     "execution_count": 248,
     "metadata": {},
     "output_type": "execute_result"
    }
   ],
   "source": [
    "U_red = U[:,0:2]\n",
    "U_red"
   ]
  },
  {
   "cell_type": "code",
   "execution_count": 250,
   "id": "b85a9a13-1c50-4bd7-b1b4-f6c78b85b4b5",
   "metadata": {},
   "outputs": [
    {
     "data": {
      "text/plain": [
       "array([[-0.88033817, -0.47434662],\n",
       "       [ 0.47434662, -0.88033817]])"
      ]
     },
     "execution_count": 250,
     "metadata": {},
     "output_type": "execute_result"
    }
   ],
   "source": [
    "Vt"
   ]
  },
  {
   "cell_type": "markdown",
   "id": "d9af2c60-f3b4-4386-a2c7-9e82ceb51f0e",
   "metadata": {},
   "source": [
    "Para encontrar la seudoinversa de $A$ de la forma definida anteriormente, necesitamos conocer la inversa de $D$, la obtenemos de la siguiente forma"
   ]
  },
  {
   "cell_type": "code",
   "execution_count": 251,
   "id": "c8d539e7-7767-42f0-8ecb-704d5c2da79e",
   "metadata": {},
   "outputs": [
    {
     "data": {
      "text/plain": [
       "array([[0.0975474 , 0.        ],\n",
       "       [0.        , 0.38046613]])"
      ]
     },
     "execution_count": 251,
     "metadata": {},
     "output_type": "execute_result"
    }
   ],
   "source": [
    "D_inv = np.linalg.inv(np.diag(D))\n",
    "D_inv"
   ]
  },
  {
   "cell_type": "markdown",
   "id": "d047d08d-c49f-4806-8c1b-d4d8811775fe",
   "metadata": {},
   "source": [
    "Finalmente, encontramos $A^{+}$ según su definición, es decir $A^{+} = V_{r} D^{-1} U_{r}^{T}$ como sigue"
   ]
  },
  {
   "cell_type": "code",
   "execution_count": 253,
   "id": "202a23f8-58a5-4826-b63c-a3a06919eab7",
   "metadata": {},
   "outputs": [
    {
     "data": {
      "text/plain": [
       "array([[ 0.16666667, -0.10606061,  0.03030303],\n",
       "       [-0.16666667,  0.28787879,  0.06060606]])"
      ]
     },
     "execution_count": 253,
     "metadata": {},
     "output_type": "execute_result"
    }
   ],
   "source": [
    "A_plus = np.dot(np.dot(Vt.T,D_inv),U_red.T)\n",
    "A_plus"
   ]
  },
  {
   "cell_type": "markdown",
   "id": "7686b11f-615a-45a0-88b3-4b4f8d1d29ab",
   "metadata": {},
   "source": [
    "Todo este proceso lo hicimos manualmente, pero Python lo puede obtener directamente con la siguiente línea"
   ]
  },
  {
   "cell_type": "code",
   "execution_count": 255,
   "id": "a62564e3-d75f-479f-a588-6d89c5ed0ee7",
   "metadata": {},
   "outputs": [
    {
     "data": {
      "text/plain": [
       "array([[ 0.16666667, -0.10606061,  0.03030303],\n",
       "       [-0.16666667,  0.28787879,  0.06060606]])"
      ]
     },
     "execution_count": 255,
     "metadata": {},
     "output_type": "execute_result"
    }
   ],
   "source": [
    "np.linalg.pinv(A)"
   ]
  },
  {
   "cell_type": "markdown",
   "id": "ada499ec-a259-42cd-8db1-4d162052559e",
   "metadata": {},
   "source": [
    "Observamos que obtenemos el mismo resultado. Bueno, pero ¿para qué nos sirve dicha inversa? Como mencionaba, en muchos casos no es posible encontrar la inversa de una matriz y si queremos resolver el sistema $Ax=b$ la solución no va a existir, para estos casos es mejor encontrar una aproximación $Ax$ a $b$, pues si se define\n",
    "$$ \\hat{x} = A^{+} b = V_{r} D^{-1} U_{r}^{T} b$$\n",
    "entonces,\n",
    "\\begin{eqnarray}\n",
    "A \\hat{x} & = & (U_{r} D V_{r}^{T})(V_{r} D^{-1} U_{r}^{T}b) \\\\\n",
    "& = & U_{r} D D^{-1} U_{r}^{T}b \\\\\n",
    "& = & U_{r} U_{r}^{T}b\n",
    "\\end{eqnarray}\n",
    "donde $U_{r} U_{r}^{T}b$ es la proyección ortogonal $\\hat{b}$ de $b$ sobre $ColA$. Por lo tanto $\\hat{x}$ es una solución por mínimos cuadrados de $Ax=b$.\n",
    "\n",
    "Veamos un ejemplo, tenemos el conjunto de datos $[ (2,1), (5,2), (7,3), (8,3) ]$ y queremos encontrar la recta por mínimos cuadrados que mejor ajusta a los datos, es decir, se quiere resolver el sistema\n",
    "\\begin{equation}\n",
    "\\begin{pmatrix} 1 & 2 \\\\ 1 & 5 \\\\ 1 & 7 \\\\ 1 & 8 \\end{pmatrix} \\begin{pmatrix} b \\\\ m \\end{pmatrix} = \\begin{pmatrix} 1 \\\\ 2 \\\\ 3 \\\\ 3 \\end{pmatrix}\n",
    "\\end{equation}\n",
    "\n",
    "Definamos la matriz y encontremos su inversa de Moore-Penrose para aproximar la solución:"
   ]
  },
  {
   "cell_type": "code",
   "execution_count": 258,
   "id": "8293810d-fbcc-4985-b2d3-845699a161e3",
   "metadata": {},
   "outputs": [],
   "source": [
    "A = np.array([[1,2], [1,5], [1,7], [1,8]])\n",
    "A_plus = np.linalg.pinv(A)"
   ]
  },
  {
   "cell_type": "markdown",
   "id": "4ae65f12-5bc1-4312-ae86-a23b6f46efca",
   "metadata": {},
   "source": [
    "Como $\\hat{x} = A^{+}b$, entonces  "
   ]
  },
  {
   "cell_type": "code",
   "execution_count": 261,
   "id": "0313d1ad-3396-498e-9174-a5eeca5569b5",
   "metadata": {},
   "outputs": [
    {
     "data": {
      "text/plain": [
       "array([0.28571429, 0.35714286])"
      ]
     },
     "execution_count": 261,
     "metadata": {},
     "output_type": "execute_result"
    }
   ],
   "source": [
    "b = np.array([1,2,3,3]).T\n",
    "x = np.dot(A_plus,b)\n",
    "x"
   ]
  },
  {
   "cell_type": "markdown",
   "id": "4c0a7689-0a09-4f93-b385-74c06cc16a06",
   "metadata": {},
   "source": [
    "Graficando los datos y la recta obtenida"
   ]
  },
  {
   "cell_type": "code",
   "execution_count": 266,
   "id": "b3978017-a943-4e88-aa34-d91dc0a68bac",
   "metadata": {},
   "outputs": [
    {
     "data": {
      "image/png": "[encoded data removed]",
      "text/plain": [
       "<Figure size 432x288 with 1 Axes>"
      ]
     },
     "metadata": {
      "needs_background": "light"
     },
     "output_type": "display_data"
    }
   ],
   "source": [
    "import matplotlib.pyplot as plt\n",
    "\n",
    "y = np.linspace(1, 9, 1000)\n",
    "recta = x[0]+x[1]*y\n",
    "plt.plot(A[:,1], b, \"*\")\n",
    "plt.plot(y,recta)\n",
    "plt.title(\"Aproximación por mínimos cuadrados utilizando la inversa de Moore-Penrose\")\n",
    "plt.show()"
   ]
  },
  {
   "cell_type": "markdown",
   "id": "474f9e24-06d4-4d87-9bfa-38f181c66ff6",
   "metadata": {},
   "source": [
    "# Conclusiones\n",
    "\n",
    "La descomposición de valores singulares tiene una fuerte base teórica detrás como es la diagonalización ortogonal, valores y vectores propios, formas cuadráticas, entre otros temas que ayudan a llegar a ese punto, sin embargo, en la práctica es preferibles evitar trabajar con $A^{T}A$ pues si la matriz $A$ presenta errores en sus entradas, estos se elevan al cuadrado al obtener $A^{T}A$, por lo tanto, de forma numérica se trabaja con algoritmos iterativos para obtener los valores singulares y vectores singulares de $A$. \n",
    "\n",
    "Se mostró una aplicación de la SVD, la inversa de Moore-Penrose que se se puede utilizar, entre muchas cosas, a aproximar datos mediante mínimos cuadrados de una manera sencilla y es de forma sencilla porque ya tenemos la certeza de que al utilizar esa matriz se obtiene una aproximación con la mínima donde además $\\hat{x}$ definida como antes tiene la longitud más pequeña en comparación con todas las soluciones por mínimos cuadrados de $Ax=b$.\n",
    "\n",
    "Es interesante la forma como podemos obtener una *inversa* de matrices rectangulares y que además juega un papel importante en la restauración de imágenes, pero no sólo eso, sino que minimiza el trabajo computacional requerido comparado con otros métodos, como se muestra en [Applications of the Moore-Penrose Inverse in Digital Image Restoration](https://www.hindawi.com/journals/mpe/2009/170724/)."
   ]
  },
  {
   "cell_type": "markdown",
   "id": "30012040-a0a4-438b-9a1d-ab157b96fb44",
   "metadata": {},
   "source": [
    "# Bibliografía\n",
    "\n",
    "1. *Lay, D.C.*, Linear Algebra and Its Applications, Addison-Wesley Series.\n",
    "2. [Documentación Numpy.linalg.sv](https://numpy.org/doc/stable/reference/generated/numpy.linalg.svd.html)\n",
    "3. *Philip E. Gill, Walter Murray y Margaret H. Wright*, Numerical Linear Algebra and Optimization, vol.1 (Redwood City, CA: Addison-Wesley, 1991)."
   ]
  }
 ],
 "metadata": {
  "kernelspec": {
   "display_name": "Python 3 (ipykernel)",
   "language": "python",
   "name": "python3"
  },
  "language_info": {
   "codemirror_mode": {
    "name": "ipython",
    "version": 3
   },
   "file_extension": ".py",
   "mimetype": "text/x-python",
   "name": "python",
   "nbconvert_exporter": "python",
   "pygments_lexer": "ipython3",
   "version": "3.9.7"
  }
 },
 "nbformat": 4,
 "nbformat_minor": 5
}
